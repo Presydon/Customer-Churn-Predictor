{
 "cells": [
  {
   "cell_type": "code",
   "execution_count": 1,
   "metadata": {},
   "outputs": [],
   "source": [
    "import pickle\n",
    "import pandas as pd\n",
    "from sklearn.preprocessing import LabelEncoder, StandardScaler"
   ]
  },
  {
   "cell_type": "code",
   "execution_count": null,
   "metadata": {},
   "outputs": [],
   "source": [
    "#------------------------ Loading pickle --------------------------\n",
    "classifier = pickle.load(open('models/classifier_model.pkl', 'rb'))\n",
    "cluster = pickle.load(open('models/cluster_model.pkl', 'rb'))\n"
   ]
  },
  {
   "cell_type": "code",
   "execution_count": 2,
   "metadata": {},
   "outputs": [],
   "source": [
    "#------------------------ Function for preprocessing --------------------------\n",
    "\n",
    "def find_dataset(dataset):\n",
    "\n",
    "    df = pd.read_csv(dataset)\n",
    "    return df\n",
    "\n",
    "\n",
    "def one_hotencoding(dataset, column):\n",
    "    sample = pd.get_dummies(dataset[column]).iloc[:, :-1]\n",
    "    df = pd.concat([dataset, sample], axis=1).drop(column, axis=1)\n",
    "    return df\n",
    "\n",
    "\n",
    "def bin_dataset(dataset, col_name, bin_edges, bin_labels):\n",
    "    dataset[f'{col_name_Category}'] = pd.cut(df.pop(col_name), bins=bin_edges, labels=bin_labels)\n",
    "    return dataset\n",
    "\n",
    "\n",
    "def label_encoder(dataset):\n",
    "    le = LabelEncoder()\n",
    "    string_col = dataset.select_dtypes(include=['object', \"category\"])\n",
    "    for col in string_col:\n",
    "        dataset[col] = le.fit_transform(dataset[col])\n",
    "    return dataset\n",
    "\n",
    "\n",
    "def scaler(dataset):\n",
    "    ss = StandardScaler()\n",
    "    num_ft = ['Balance', 'EstimatedSalary']\n",
    "    dataset[num_ft] = ss.fit_transform(dataset[num_ft])\n",
    "    return dataset\n",
    "\n"
   ]
  },
  {
   "cell_type": "code",
   "execution_count": null,
   "metadata": {},
   "outputs": [],
   "source": []
  },
  {
   "cell_type": "code",
   "execution_count": null,
   "metadata": {},
   "outputs": [],
   "source": []
  }
 ],
 "metadata": {
  "kernelspec": {
   "display_name": "venv",
   "language": "python",
   "name": "python3"
  },
  "language_info": {
   "codemirror_mode": {
    "name": "ipython",
    "version": 3
   },
   "file_extension": ".py",
   "mimetype": "text/x-python",
   "name": "python",
   "nbconvert_exporter": "python",
   "pygments_lexer": "ipython3",
   "version": "3.11.5"
  },
  "orig_nbformat": 4
 },
 "nbformat": 4,
 "nbformat_minor": 2
}
